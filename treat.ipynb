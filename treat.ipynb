{
 "cells": [
  {
   "cell_type": "code",
   "execution_count": 7,
   "metadata": {},
   "outputs": [],
   "source": [
    "import pandas as pd\n",
    "import ast\n"
   ]
  },
  {
   "cell_type": "code",
   "execution_count": 8,
   "metadata": {},
   "outputs": [],
   "source": [
    "path = \"dataset/clean_recipes.csv\"\n",
    "file = pd.read_csv(path)\n",
    "df = pd.DataFrame(file)\n",
    "\n",
    "df = df.drop([\"as\"], axis=1)\n",
    "\n",
    "# for i in range(len(df)):\n",
    "#     for j in range(6):\n",
    "#         r = df[str(j)][i]\n",
    "#         if r == \" \":\n",
    "#             df.at[i, str(j)] = []\n",
    "#         elif ',' in r:\n",
    "#             s = r.split(',')\n",
    "#             df.at[i, str(j)] = s\n",
    "#         else:\n",
    "#             df.at[i, str(j)] = [r]\n",
    "# print(df)\n",
    "\n",
    "# print(df[\"1\"][0][0])\n",
    "df.to_csv(path, index=False)\n",
    "\n",
    "\n",
    "\n",
    "\n"
   ]
  }
 ],
 "metadata": {
  "kernelspec": {
   "display_name": "Python 3",
   "language": "python",
   "name": "python3"
  },
  "language_info": {
   "codemirror_mode": {
    "name": "ipython",
    "version": 3
   },
   "file_extension": ".py",
   "mimetype": "text/x-python",
   "name": "python",
   "nbconvert_exporter": "python",
   "pygments_lexer": "ipython3",
   "version": "3.12.0"
  }
 },
 "nbformat": 4,
 "nbformat_minor": 2
}
