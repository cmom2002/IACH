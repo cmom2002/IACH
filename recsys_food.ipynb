{
 "cells": [
  {
   "cell_type": "code",
   "execution_count": 1293,
   "metadata": {},
   "outputs": [],
   "source": [
    "import numpy as np\n",
    "import pandas as pd\n",
    "import datetime\n",
    "import pickle as pkl\n",
    "import os\n",
    "import matplotlib.pyplot as plt\n",
    "from sklearn.preprocessing import StandardScaler\n",
    "from sklearn.decomposition import PCA\n",
    "from sklearn import decomposition\n",
    "import csv"
   ]
  },
  {
   "cell_type": "code",
   "execution_count": 1294,
   "metadata": {},
   "outputs": [],
   "source": [
    "ingredients_recipes = {}\n",
    "author_recipes = {}\n",
    "time_recipes = {}\n",
    "recipe_review = {}\n",
    "user_review = {}"
   ]
  },
  {
   "cell_type": "code",
   "execution_count": 1295,
   "metadata": {},
   "outputs": [],
   "source": [
    "def read_file(path):\n",
    "    file = pd.read_csv(path)\n",
    "    df = pd.DataFrame(file)\n",
    "    return df"
   ]
  },
  {
   "cell_type": "code",
   "execution_count": 1296,
   "metadata": {},
   "outputs": [],
   "source": [
    "def create_array_time(df):\n",
    "    array_time = []\n",
    "\n",
    "    for i in range(len(df)):\n",
    "        time = df[\"Total Time\"][i]\n",
    "        if time == \"X\":\n",
    "            array_time.append(0)\n",
    "        elif len(time) == 3:      #1 d ou 1 h ou 1 m                                      \n",
    "            divide = time.split(\" \")\n",
    "            if divide[1] == \"h\":\n",
    "                array_time.append(int(divide[0]) * 60)\n",
    "            elif divide[1] == \"m\":\n",
    "                array_time.append(int(divide[0]))\n",
    "            elif divide[1] == \"d\":\n",
    "                array_time.append(int(divide[0]) * 24 * 60)\n",
    "        elif len(time) == 4:    #30 m ou 10 h\n",
    "            if 'm' in time:\n",
    "                array_time.append(int(time.split(\" m\")[0]))\n",
    "            elif 'h' in time:\n",
    "                array_time.append(int(time.split(\" h\")[0]) * 60)\n",
    "            \n",
    "        elif len(time) == 8 or len(time) == 7:\n",
    "            t = 0\n",
    "            if 'd' in time:     #1 d 1 h ou 1 d 30 m\n",
    "                divide = time.split(\" d \")\n",
    "                t += int(divide[0]) * 60 * 24\n",
    "                if 'm' in divide[1]:\n",
    "                    t += int(divide[1].split(\" m\")[0])\n",
    "                elif 'h' in divide[1]:\n",
    "                    t += int(divide[1].split(\" h\")[0]) * 60\n",
    "            elif 'h' in time:       #12 h 2 m ou 1 h 20 m ou 1 h 2 m\n",
    "                divide = time.split(\" h \")\n",
    "                t += int(divide[0]) * 60 + int(divide[1].split(\" m\")[0])\n",
    "            \n",
    "            array_time.append(t)\n",
    "        elif len(time) == 9:    #12 h 20 m ou 12 d 12 h ou 12 d 20 m\n",
    "            t = 0\n",
    "            if \"d\" in time:\n",
    "                divide = time.split(\" d \")\n",
    "                t += int(divide[0]) * 24 * 60\n",
    "                if \"m\" in divide[1]:\n",
    "                    t += int(divide[1].split(\" m\")[0])\n",
    "                elif \"h\" in divide[1]:\n",
    "                    t += int(divide[1].split(\" h\")[0])\n",
    "            elif \"h\" in time:\n",
    "                divide = time.split(\" h \")\n",
    "                t += int(divide[0]) * 60 + int(divide[1].split(\" m\")[0])\n",
    "            array_time.append(t)\n",
    "        elif len(time) == 11 or len(time) == 12 or len(time) == 13 or len(time) == 14:     #1 d 1 h 5 m ou 1 d 1 h 50 m ou 1 d 10 h 50 m ou 10 d 10 h 50 m\n",
    "            divide = time.split(\" d \")\n",
    "            t = int(divide[0]) * 24 * 60\n",
    "            div = divide[1].split(\" h \")\n",
    "            t += int(div[0]) * 60 + int(div[1].split(\" m\")[0])\n",
    "            array_time.append(t)\n",
    "            \n",
    "    return array_time"
   ]
  },
  {
   "cell_type": "code",
   "execution_count": 1297,
   "metadata": {},
   "outputs": [],
   "source": [
    "def create_array_review(df):\n",
    "    array_review = []\n",
    "    for i in range(len(df)):\n",
    "        review = df[\"Review Count\"][i]\n",
    "        if \"k\" in review:\n",
    "            array_review.append(int(review.split(\"k\")[0]) * 1000)\n",
    "        else:\n",
    "            array_review.append(int(review))\n",
    "    return array_review"
   ]
  },
  {
   "cell_type": "code",
   "execution_count": 1298,
   "metadata": {},
   "outputs": [],
   "source": [
    "def create_ingredients_recipes(df):\n",
    "    for i in range(len(df)):\n",
    "        ingredients = df[\"Ingredients\"][i]\n",
    "        list_ingred = ingredients.split(',')\n",
    "        for ing in list_ingred:\n",
    "            if ing not in ingredients_recipes:\n",
    "                ingredients_recipes[ing] = [df[\"Recipe Name\"][i]]\n",
    "            else:\n",
    "                ingredients_recipes[ing].append(df[\"Recipe Name\"][i])"
   ]
  },
  {
   "cell_type": "code",
   "execution_count": 1299,
   "metadata": {},
   "outputs": [],
   "source": [
    "def create_author_recipes(df):\n",
    "    for i in range(len(df)):\n",
    "        author = df[\"Author\"][i]\n",
    "        if author not in author_recipes:\n",
    "            author_recipes[author] = [df[\"Recipe Name\"][i]]\n",
    "        else:\n",
    "            author_recipes[author].append(df[\"Recipe Name\"][i])"
   ]
  },
  {
   "cell_type": "code",
   "execution_count": 1300,
   "metadata": {},
   "outputs": [],
   "source": [
    "def create_time_recipes(df):\n",
    "    global time_recipes\n",
    "    for i in range(len(df)):\n",
    "        time = df[\"Total Time (min)\"][i]\n",
    "        if time not in time_recipes:\n",
    "            time_recipes[time] = [df[\"Recipe Name\"][i]]\n",
    "        else:\n",
    "            time_recipes[time].append(df[\"Recipe Name\"][i])\n",
    "            \n",
    "    time_recipes = dict(sorted(time_recipes.items()))"
   ]
  },
  {
   "cell_type": "code",
   "execution_count": 1301,
   "metadata": {},
   "outputs": [],
   "source": [
    "def create_recipe_review(df):\n",
    "    for i in range(len(df)):\n",
    "        recipe_review[df[\"Recipe Name\"][i]] = df[\"Review Count\"][i]\n",
    "    "
   ]
  },
  {
   "cell_type": "code",
   "execution_count": 1302,
   "metadata": {},
   "outputs": [],
   "source": [
    "def create_user_review(df):\n",
    "    for i in range(len(df)):\n",
    "        user = df[\"Nome\"][i]\n",
    "        user_review[user] = [[df[\"0\"][i]], [df[\"1\"][i]], [df[\"2\"][i]], [df[\"3\"][i]], [df[\"4\"][i]], [df[\"5\"][i]]]\n",
    "    print(user_review)"
   ]
  },
  {
   "cell_type": "code",
   "execution_count": 1303,
   "metadata": {},
   "outputs": [],
   "source": [
    "def plot_distributions(dic, title, xlabel, ylabel, number, orientation, x, y, fontesize):\n",
    "    x_values = [i for i in dic if len(dic[i]) > number]\n",
    "    y_values = [len(dic[i]) for i in dic if len(dic[i]) > number]\n",
    "    \n",
    "    plt.figure(figsize=(x, y))\n",
    "    plt.bar(x_values, y_values, color='blue')                \n",
    "    plt.title(title)\n",
    "    plt.xticks(rotation=orientation, fontsize=fontesize)\n",
    "    plt.xlabel(xlabel)\n",
    "    plt.ylabel(ylabel)\n",
    "    plt.show()"
   ]
  },
  {
   "cell_type": "code",
   "execution_count": 1304,
   "metadata": {},
   "outputs": [],
   "source": [
    "def plot_top10_distributions(dic, top, title, xlabel, ylabel, orientation, x, y, is_list):\n",
    "    if is_list:\n",
    "        new_dic = dict(sorted(dic.items(), key=lambda x: len(x[1]), reverse=True))\n",
    "        x_values = []\n",
    "        y_values = []\n",
    "        count = 0\n",
    "        for i in new_dic:\n",
    "            x_values.append(i)\n",
    "            y_values.append(len(new_dic[i]))\n",
    "            if count == top:\n",
    "                break\n",
    "            count += 1\n",
    "    else:\n",
    "        new_dic = dict(sorted(dic.items(), key=lambda x: x[1], reverse=True))\n",
    "        x_values = []\n",
    "        y_values = []\n",
    "        count = 0\n",
    "        for i in new_dic:\n",
    "            x_values.append(i)\n",
    "            y_values.append(new_dic[i])\n",
    "            if count == top:\n",
    "                break\n",
    "            count += 1\n",
    "    \n",
    "    plt.figure(figsize=(x, y))\n",
    "    plt.bar(x_values, y_values, color='blue')                \n",
    "    plt.title(title)\n",
    "    plt.xticks(rotation=orientation)\n",
    "    plt.xlabel(xlabel)\n",
    "    plt.ylabel(ylabel)\n",
    "    plt.show()\n"
   ]
  },
  {
   "cell_type": "code",
   "execution_count": 1305,
   "metadata": {},
   "outputs": [],
   "source": [
    "def plot_pca(df):\n",
    "    variables = [\"Total Time (min)\", \"Review Count\"]\n",
    "\n",
    "    x = df[variables]\n",
    "\n",
    "    data = StandardScaler().fit_transform(x)\n",
    "    pca = decomposition.PCA()\n",
    "    pca.n_components = 2\n",
    "    pca_data = pca.fit_transform(data)\n",
    "    percentage_var_explained = pca.explained_variance_ / np.sum(pca.explained_variance_)\n",
    "    cum_var_explained = np.cumsum(percentage_var_explained)\n",
    "    plt.figure(1, figsize=(6, 4))\n",
    "    plt.plot(cum_var_explained, linewidth=2)\n",
    "    plt.axis('tight')\n",
    "    plt.grid()\n",
    "    plt.xlabel('principal components')\n",
    "    plt.ylabel('Cumulative variance explained')\n",
    "    plt.title('PCA: components selection')\n",
    "    plt.show()"
   ]
  },
  {
   "cell_type": "code",
   "execution_count": 1306,
   "metadata": {},
   "outputs": [],
   "source": [
    "def register():\n",
    "    print(\"-\"*40 + \" Welcome to Pendia \" + \"-\"*40)\n",
    "    print(\"1- Log In;\\n2- Sing In;\\n0- Leave;\")\n",
    "    option = input(\"1- Log In\\n2- Sing In\\n0- Leave\\n\")\n",
    "    print(option)\n",
    "    name = \"\"\n",
    "    password = \"\"\n",
    "    state = False\n",
    "    while option != \"0\":\n",
    "        if os.path.exists(\"users.pkl\"):\n",
    "            with open(\"users.pkl\", 'rb') as arq:\n",
    "                d_users =  pkl.load(arq)\n",
    "        else:\n",
    "            d_users = {}\n",
    "        if option == \"1\" and d_users == {}:\n",
    "            print(\"Without users\")\n",
    "        elif option == \"1\":\n",
    "            while(1):\n",
    "                name = input(\"Name: \")\n",
    "                print(\"Name: \" + name)\n",
    "                if name in d_users:\n",
    "                    break\n",
    "                else:\n",
    "                    print(\"Incorret Name\")\n",
    "            while(1):\n",
    "                password = input(\"Password: \")\n",
    "                print(\"Password: \" + password)\n",
    "                if d_users[name] == password:\n",
    "                    break\n",
    "                else:\n",
    "                    print(\"Incorret Password\")\n",
    "            print(\"-\"*40 + \" Hi \" + name + \" \" + \"-\"*40)\n",
    "            state = True\n",
    "        elif option == \"2\":\n",
    "            while(1):\n",
    "                name = input(\"Name: \")\n",
    "                print(\"Name: \" + name)\n",
    "                if name not in d_users:\n",
    "                    password = input(\"Password: \")\n",
    "                    print(\"Password: \" + password)\n",
    "                    d_users[name] = password\n",
    "                    break\n",
    "                else:\n",
    "                    print(\"User Already exists\")\n",
    "            with open(\"users.pkl\", 'wb') as arq:\n",
    "                pkl.dump(d_users, arq)\n",
    "            print(\"-\"*40 + \" Hi \" + name + \" \" + \"-\"*40)\n",
    "            state = True\n",
    "        else:\n",
    "            print(\"Invalid Option\")\n",
    "            \n",
    "        if state:\n",
    "            option = \"0\"\n",
    "        else:\n",
    "            print(\"1- Log In;\\n2- Sing In;\\n0- Leave;\")\n",
    "            option = input(\"1- Log In;\\n2- Sing In;\\n0- Leave;\\n\")\n",
    "\n",
    "    if not state: \n",
    "        print(\"Bye, Have a Great Time!\")\n",
    "        return None\n",
    "    \n",
    "    return [name, password]"
   ]
  },
  {
   "cell_type": "code",
   "execution_count": 1307,
   "metadata": {},
   "outputs": [],
   "source": [
    "def validation_date(df, string_data):\n",
    "    day_to_validation = []\n",
    "    actual_date_obj = datetime.datetime.strptime(string_data, \"%Y-%m-%d\")\n",
    "    for i in range(len(df)):\n",
    "        date_obj = datetime.datetime.strptime(df[\"Expiration Date\"][i], \"%Y-%m-%d\")\n",
    "        day_to_validation.append(actual_date_obj - date_obj)\n",
    "    return day_to_validation"
   ]
  },
  {
   "cell_type": "code",
   "execution_count": 1308,
   "metadata": {},
   "outputs": [],
   "source": [
    "def ingredients_expirated(day_to_validation, df):\n",
    "    print(\"Do you want to know what ingredients are expired and what are about to expire? (1- Yes/2- No)\")\n",
    "    option = input(\"Do you want to know what ingredients are expired and what are about to expire? (1- Yes/2- No)\")\n",
    "    print(option)\n",
    "    if option == \"1\":\n",
    "        for i in range(len(day_to_validation)):\n",
    "            if day_to_validation[i].days > 0:\n",
    "                print(\"Ingredient \" + df[\"Ingredients\"][i] + \" is expired\")\n",
    "            elif -15 <= day_to_validation[i].days <= 0:\n",
    "                print(\"Ingredient \" + df[\"Ingredients\"][i] + \" expire in \" + str(abs(day_to_validation[i].days)) + \" days.\") \n",
    "    elif option == \"2\":\n",
    "        return\n",
    "            "
   ]
  },
  {
   "cell_type": "code",
   "execution_count": 1309,
   "metadata": {},
   "outputs": [],
   "source": [
    "def register_product(df):\n",
    "    print(\"-\"*20 + \" Register Product \" + \"-\"*20)\n",
    "    "
   ]
  },
  {
   "cell_type": "code",
   "execution_count": 1310,
   "metadata": {},
   "outputs": [],
   "source": [
    "def eliminate_product(df):\n",
    "    print(\"-\"*20 + \" Eliminate Product \" + \"-\"*20)"
   ]
  },
  {
   "cell_type": "code",
   "execution_count": 1311,
   "metadata": {},
   "outputs": [],
   "source": [
    "def make_recipe(df):\n",
    "    print(\"-\"*20 + \" Make Recipe \" + \"-\"*20)"
   ]
  },
  {
   "cell_type": "code",
   "execution_count": 1312,
   "metadata": {},
   "outputs": [],
   "source": [
    "def user_interface():\n",
    "    array_login = register()\n",
    "    if array_login is None:\n",
    "        return\n",
    "    path = \"dataset/\" + array_login[0] + \".csv\"\n",
    "    actual_data = datetime.datetime.today()\n",
    "    string_data = str(actual_data.year) + \"-\" + str(actual_data.month) + \"-\" + str(actual_data.day)\n",
    "    print(\"Current date: \" + string_data)\n",
    "    \n",
    "    if os.path.exists(path):\n",
    "        df = read_file(path)\n",
    "        day_to_validation = validation_date(df, string_data)\n",
    "        ingredients_expirated(day_to_validation, df)\n",
    "        print(\"1- Register Product\\n2- Eliminate Product\\n3- Make Recipe\\n\")\n",
    "    else:\n",
    "\n",
    "        d = {\"Ingredients\" : None, \"Quantity\": None, \"Expiration Date\": None}\n",
    "        df = read_file(path)\n",
    "        display(df)\n",
    "        \n",
    "    \n"
   ]
  },
  {
   "cell_type": "code",
   "execution_count": 1313,
   "metadata": {},
   "outputs": [],
   "source": [
    "def main():\n",
    "    path = \"dataset/\"\n",
    "    if os.path.exists(\"Final_recipes.csv\"):\n",
    "        path += \"Final_recipes.csv\"\n",
    "        df = read_file(path)\n",
    "    else:\n",
    "        path += \"clean_recipes.csv\"\n",
    "        df = read_file(path)\n",
    "        array_time = create_array_time(df)\n",
    "        df[\"Total Time (min)\"] = array_time\n",
    "        array_review = create_array_review(df)\n",
    "        df[\"Review Count\"] = array_review\n",
    "        df.to_csv(\"dataset/Final_recipes.csv\")\n",
    "\n",
    "    create_ingredients_recipes(df)\n",
    "    create_author_recipes(df)\n",
    "    create_time_recipes(df)\n",
    "    create_recipe_review(df)\n",
    "    path2 = \"dataset/user_reviews.csv\"\n",
    "    df2 = read_file(path2)\n",
    "    create_user_review(df2)\n",
    "    display(user_review)\n",
    "\n",
    "    #display(df)\n",
    "    top = 10\n",
    "    # plot_distributions(ingredients_recipes, \"Ingredients Distribution\", \"Ingredients\", \"Number of Recipes\", 100, \"vertical\", 15, 5, 5) \n",
    "    # plot_top10_distributions(ingredients_recipes, top, \"Top 10 Ingredients Distribution\", \"Top 10 Ingredients\", \"Number of Recipes\", \"horizontal\", 10, 5, True)\n",
    "    \n",
    "    # plot_distributions(author_recipes, \"Author Distribution\", \"Authors\", \"Number of Recipes\", 5, \"vertical\", 15, 5, 4) \n",
    "    # plot_top10_distributions(author_recipes, top, \"Top 10 Authors Distribution\", \"Top 10 Authors\", \"Number of Recipes\", \"vertical\", 10, 5, True)\n",
    "    \n",
    "    # time_without_0 = {chave: valor for chave, valor in time_recipes.items() if chave != list(time_recipes.keys())[0]}\n",
    "    # plot_distributions(time_without_0, \"Time Distribution\", \"Time (min)\", \"Number of Recipes\", 5, \"horizontal\", 15, 5, 10) \n",
    "    # plot_top10_distributions(time_without_0, top, \"Top 10 Times Distribution\", \"Top 10 Times (min)\", \"Number of Recipes\", \"horizontal\", 10, 5, True)\n",
    "\n",
    "    # plot_top10_distributions(recipe_review, top, \"Top 10 Recipes Distribution\", \"Top 10 Recipes\", \"Review\", \"vertical\", 10, 5, False)\n",
    "    \n",
    "    # plot_pca(df)   \n",
    "    \n",
    "    user_interface()\n",
    "\n",
    "    \n",
    "    "
   ]
  },
  {
   "cell_type": "code",
   "execution_count": 1314,
   "metadata": {},
   "outputs": [
    {
     "name": "stdout",
     "output_type": "stream",
     "text": [
      "{'Carlos': [['Apple Raisin Bread Recipe'], ['Pumpernickel Bread II Recipe'], ['Banana Nut Bread Baked'], [nan], [nan], ['Fudgy Chocolate Chip Muffins Recipe,Indian Naan II Recipe']], 'Mariana': [[nan], ['Pumpernickel Bread II Recipe'], ['Honey Oatmeal Bread I Recipe,Oatmeal Soda Bread Recipe'], [nan], ['Broccoli Cornbread Recipe'], ['Fudgy Chocolate Chip Muffins Recipe']], 'Filipe': [[nan], [nan], [nan], [nan], ['Southern Biscuits with Mayonnaise Recipe,Paximade Recipe'], ['Fudgy Chocolate Chip Muffins Recipe,Easy Raisin Cake Recipe']]}\n"
     ]
    },
    {
     "data": {
      "text/plain": [
       "{'Carlos': [['Apple Raisin Bread Recipe'],\n",
       "  ['Pumpernickel Bread II Recipe'],\n",
       "  ['Banana Nut Bread Baked'],\n",
       "  [nan],\n",
       "  [nan],\n",
       "  ['Fudgy Chocolate Chip Muffins Recipe,Indian Naan II Recipe']],\n",
       " 'Mariana': [[nan],\n",
       "  ['Pumpernickel Bread II Recipe'],\n",
       "  ['Honey Oatmeal Bread I Recipe,Oatmeal Soda Bread Recipe'],\n",
       "  [nan],\n",
       "  ['Broccoli Cornbread Recipe'],\n",
       "  ['Fudgy Chocolate Chip Muffins Recipe']],\n",
       " 'Filipe': [[nan],\n",
       "  [nan],\n",
       "  [nan],\n",
       "  [nan],\n",
       "  ['Southern Biscuits with Mayonnaise Recipe,Paximade Recipe'],\n",
       "  ['Fudgy Chocolate Chip Muffins Recipe,Easy Raisin Cake Recipe']]}"
      ]
     },
     "metadata": {},
     "output_type": "display_data"
    },
    {
     "name": "stdout",
     "output_type": "stream",
     "text": [
      "---------------------------------------- Welcome to Pendia ----------------------------------------\n",
      "1- Log In;\n",
      "2- Sing In;\n",
      "0- Leave;\n",
      "0\n",
      "Bye, Have a Great Time!\n"
     ]
    }
   ],
   "source": [
    "if __name__ == '__main__':\n",
    "    main()"
   ]
  }
 ],
 "metadata": {
  "kernelspec": {
   "display_name": "Python 3",
   "language": "python",
   "name": "python3"
  },
  "language_info": {
   "codemirror_mode": {
    "name": "ipython",
    "version": 3
   },
   "file_extension": ".py",
   "mimetype": "text/x-python",
   "name": "python",
   "nbconvert_exporter": "python",
   "pygments_lexer": "ipython3",
   "version": "3.12.0"
  }
 },
 "nbformat": 4,
 "nbformat_minor": 2
}
